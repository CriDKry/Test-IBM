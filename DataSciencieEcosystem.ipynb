{
  "nbformat": 4,
  "nbformat_minor": 0,
  "metadata": {
    "colab": {
      "provenance": []
    },
    "kernelspec": {
      "name": "python3",
      "display_name": "Python 3"
    },
    "language_info": {
      "name": "python"
    }
  },
  "cells": [
    {
      "cell_type": "markdown",
      "source": [
        "#Data Science Tools and Ecosystem"
      ],
      "metadata": {
        "id": "eNtF7p0YPa5G"
      }
    },
    {
      "cell_type": "markdown",
      "source": [
        "En este cuaderno, se hará un resumen de herramientas y ecossitemas de Ciencia de Datos"
      ],
      "metadata": {
        "id": "TgpxZy5cQGZL"
      }
    },
    {
      "cell_type": "markdown",
      "source": [
        "**Objetivos**\n",
        "- Listar Lenguajes Populares para Ciencia de Datos\n",
        "- Listar Bibliotecas Populares para Ciencia de Datos\n",
        "- Listar Herramientas Populares para Ciencia de Datos\n",
        "- Comprender cómo funciona la artimética en Ciencia de Datos"
      ],
      "metadata": {
        "id": "zZuBVOGETfWo"
      }
    },
    {
      "cell_type": "markdown",
      "source": [
        "Algunos de los lenguajes populares que utilizan los científicos de datos son:\n",
        "\n",
        "1.   Python\n",
        "2.   R\n",
        "3. Julia"
      ],
      "metadata": {
        "id": "w7OVeVNCQaJw"
      }
    },
    {
      "cell_type": "markdown",
      "source": [
        "Algunas de las bibliotecas comúnmente utilizadas por los científicos de datos son:\n",
        "\n",
        "\n",
        "1.   Pandas\n",
        "2.   Matplotlib\n",
        "3.   Seaborn\n",
        "\n"
      ],
      "metadata": {
        "id": "ss8ix6FXQ80j"
      }
    },
    {
      "cell_type": "markdown",
      "source": [
        "Herramientas de Ciencia de datos:\n",
        "\n",
        "\n",
        "1.   R\n",
        "2.   Python\n",
        "3.   Git\n",
        "\n"
      ],
      "metadata": {
        "id": "uelM6klFRZBg"
      }
    },
    {
      "cell_type": "markdown",
      "source": [
        "###A continuación, se presentan algunos ejemplos de evaluación de expresiones aritméticas en Python"
      ],
      "metadata": {
        "id": "zZgJa3oOSJUE"
      }
    },
    {
      "cell_type": "markdown",
      "source": [
        "Esta es una expresión arimética simple para multiplicar y luego sumar enteros"
      ],
      "metadata": {
        "id": "xbbCrd5eShpH"
      }
    },
    {
      "cell_type": "code",
      "source": [
        "(3*4)+5"
      ],
      "metadata": {
        "colab": {
          "base_uri": "https://localhost:8080/"
        },
        "id": "XSoz06PKSbXD",
        "outputId": "5c1fb8eb-4338-4394-ade0-f2244254e30c"
      },
      "execution_count": 1,
      "outputs": [
        {
          "output_type": "execute_result",
          "data": {
            "text/plain": [
              "17"
            ]
          },
          "metadata": {},
          "execution_count": 1
        }
      ]
    },
    {
      "cell_type": "markdown",
      "source": [
        "Esto convertirá 200 minutos a horas dividiendo por 60"
      ],
      "metadata": {
        "id": "-PrYNaDwTQsS"
      }
    },
    {
      "cell_type": "code",
      "source": [
        "200/6"
      ],
      "metadata": {
        "colab": {
          "base_uri": "https://localhost:8080/"
        },
        "id": "p492NOMwTEae",
        "outputId": "97c32b5f-a452-4719-b6db-d97a6a9bb4f8"
      },
      "execution_count": 2,
      "outputs": [
        {
          "output_type": "execute_result",
          "data": {
            "text/plain": [
              "33.333333333333336"
            ]
          },
          "metadata": {},
          "execution_count": 2
        }
      ]
    },
    {
      "cell_type": "markdown",
      "source": [
        "##Cristian Inostroza\n",
        "Autor"
      ],
      "metadata": {
        "id": "b5muP2NqUh1a"
      }
    }
  ]
}